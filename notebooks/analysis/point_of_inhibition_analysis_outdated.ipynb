{
 "cells": [
  {
   "cell_type": "code",
   "execution_count": 21,
   "id": "be605708-db7c-4ce8-93e7-5820260c18b9",
   "metadata": {},
   "outputs": [],
   "source": [
    "import pandas as pd\n",
    "import numpy as np\n",
    "import os\n",
    "import glob\n",
    "import matplotlib.pyplot as plt\n",
    "import itertools\n",
    "from matplotlib.ticker import MultipleLocator\n",
    "import seaborn as sns\n",
    "import re"
   ]
  },
  {
   "cell_type": "code",
   "execution_count": 16,
   "id": "671d56e9-fad7-4997-baeb-8fddc46166a1",
   "metadata": {},
   "outputs": [],
   "source": [
    "pd.set_option('display.max_rows', None)\n",
    "pd.set_option('display.max_columns', None)"
   ]
  },
  {
   "cell_type": "code",
   "execution_count": 17,
   "id": "b32f1a39-072d-48bd-84b2-4de2744c46b4",
   "metadata": {},
   "outputs": [],
   "source": [
    "data_path = \"/Users/kritiaxh/Documents/PoldrackLab/SharedControl/data/raw/\"\n",
    "exp_stage = \"final\"\n",
    "task = \"shared_control\"\n",
    "\n",
    "pattern = os.path.join(data_path, exp_stage, '*', task, '*.csv')\n",
    "data_files = glob.glob(pattern)"
   ]
  },
  {
   "cell_type": "code",
   "execution_count": 18,
   "id": "c5d93b53-b4e6-4d66-a6cf-4c370c805c53",
   "metadata": {},
   "outputs": [],
   "source": [
    "def string_to_numbers(string_data):\n",
    "    if isinstance(string_data, float):  # Check if the input is already a float\n",
    "        return [string_data]  # If it's a float, return it as a list\n",
    "    string_data = string_data.strip(\"'\")  # Remove leading and trailing single quotes\n",
    "    numbers = [float(num) for num in string_data.split()]\n",
    "    return numbers"
   ]
  },
  {
   "cell_type": "code",
   "execution_count": 19,
   "id": "56aaaa33",
   "metadata": {},
   "outputs": [],
   "source": [
    "def get_subject_label(file):\n",
    "    \"\"\"\n",
    "    Extract the subject label from a given file path.\n",
    "\n",
    "    Parameters:\n",
    "    - file (str): The file path from which to extract the subject label.\n",
    "\n",
    "    Returns:\n",
    "    - str or None: The extracted subject label (e.g., 's001') if found, \n",
    "                   otherwise returns None and prints a message.\n",
    "    \"\"\"\n",
    "    \n",
    "    match = re.search(r'/sub-(s\\d{3})/', file)\n",
    "    \n",
    "    if match:\n",
    "        subject_label = match.group(1)\n",
    "        print(\"Subject label:\", subject_label)\n",
    "        return subject_label\n",
    "    else:\n",
    "        print(\"No subject label found.\")\n",
    "        return None"
   ]
  },
  {
   "cell_type": "code",
   "execution_count": 13,
   "id": "a7167e78-c629-4c1c-a6df-a00575ba9f9e",
   "metadata": {},
   "outputs": [],
   "source": [
    "def process_trial_data(data):\n",
    "    trial_results = {}\n",
    "    ssrt_list = []\n",
    "\n",
    "    for idx, row in data.iterrows():\n",
    "        trial_number = idx\n",
    "        stop_onset = row['SSD_mean']    \n",
    "        time_stamps = row['time_stamps_raw']\n",
    "        closest_time = min(time_stamps, key=lambda x: abs(x - stop_onset))\n",
    "        index_of_closest = time_stamps.index(closest_time)\n",
    "        raw_pressure = row['pressures_raw'][index_of_closest]\n",
    "\n",
    "        trial_results[trial_number] = {\n",
    "            'stop_onset': stop_onset,\n",
    "            'closest_time': closest_time,\n",
    "            'index_of_closest': index_of_closest,\n",
    "            'raw_pressure': raw_pressure,\n",
    "            'distances_raw': row['distances_raw'],\n",
    "            'pressures_raw': row['pressures_raw'],\n",
    "            'time_stamps_raw': row['time_stamps_raw'],\n",
    "            'condition': row['condition']\n",
    "        }\n",
    "\n",
    "    for trial_number, trial_data in trial_results.items():\n",
    "        index_of_closest = trial_data['index_of_closest']\n",
    "        pressures_raw = trial_data['pressures_raw']\n",
    "        time_stamps_raw = trial_data['time_stamps_raw']\n",
    "\n",
    "        found_stop_pressure = None\n",
    "        stop_moment = None\n",
    "        for i in range(index_of_closest + 1, len(pressures_raw)):\n",
    "            if pressures_raw[i] == 0:\n",
    "                found_stop_pressure = pressures_raw[i]\n",
    "                stop_moment = time_stamps_raw[i]\n",
    "                break\n",
    "\n",
    "        lower_pressure_timestamp = None\n",
    "        index_of_inhibition = None\n",
    "        if found_stop_pressure is not None:\n",
    "            for i in range(index_of_closest + 1, len(pressures_raw)):\n",
    "                if pressures_raw[i] < pressures_raw[index_of_closest]:\n",
    "                    lower_pressure_timestamp = time_stamps_raw[i]\n",
    "                    index_of_inhibition = i\n",
    "                    break\n",
    "\n",
    "        trial_data['stop_pressure'] = found_stop_pressure\n",
    "        trial_data['stop_moment'] = stop_moment\n",
    "        trial_data['moment_of_inhibition'] = lower_pressure_timestamp\n",
    "        trial_data['index_of_inhibition'] = index_of_inhibition\n",
    "\n",
    "        moment_of_inhibition = trial_data['moment_of_inhibition']\n",
    "\n",
    "        if stop_onset is not None and moment_of_inhibition is not None:\n",
    "            trial_data['ssrt'] = moment_of_inhibition - trial_data['stop_onset'] \n",
    "            ssrt = moment_of_inhibition - trial_data['stop_onset'] \n",
    "            ssrt_list.append(ssrt)\n",
    "        else:\n",
    "            ssrt_list.append(np.nan)\n",
    "            trial_data['ssrt'] = np.nan\n",
    "\n",
    "    return trial_results, ssrt_list"
   ]
  },
  {
   "cell_type": "markdown",
   "id": "2e079305-3ca9-4803-bafa-bc5c9b321a0a",
   "metadata": {},
   "source": [
    "# plotting histogram of moments of inhibition"
   ]
  },
  {
   "cell_type": "code",
   "execution_count": 22,
   "id": "303a26f0-bfbc-49ee-81c2-3d2e45177c4b",
   "metadata": {},
   "outputs": [
    {
     "name": "stdout",
     "output_type": "stream",
     "text": [
      "Subject label: s042\n",
      "Subject label: s029\n",
      "Subject label: s016\n",
      "Subject label: s011\n",
      "Subject label: s018\n",
      "Subject label: s027\n",
      "Subject label: s020\n",
      "Subject label: s043\n",
      "Subject label: s021\n",
      "Subject label: s019\n",
      "Subject label: s026\n",
      "Subject label: s010\n",
      "Subject label: s028\n",
      "Subject label: s017\n",
      "Subject label: s035\n",
      "Subject label: s032\n",
      "Subject label: s004\n",
      "Subject label: s005\n",
      "Subject label: s033\n",
      "Subject label: s034\n",
      "Subject label: s012\n",
      "Subject label: s015\n",
      "Subject label: s023\n",
      "Subject label: s024\n",
      "Subject label: s041\n",
      "Subject label: s025\n",
      "Subject label: s022\n",
      "Subject label: s014\n",
      "Subject label: s013\n",
      "Subject label: s040\n",
      "Subject label: s031\n",
      "Subject label: s036\n",
      "Subject label: s009\n",
      "Subject label: s007\n",
      "Subject label: s038\n",
      "Subject label: s006\n",
      "Subject label: s039\n",
      "Subject label: s037\n",
      "Subject label: s008\n",
      "Subject label: s030\n"
     ]
    }
   ],
   "source": [
    "data = {}\n",
    "for file in data_files:\n",
    "    subject = get_subject_label(file)\n",
    "    df = pd.read_csv(file)\n",
    "    df['phase_raw'] = df['phase_raw'].str.strip(\"'\")\n",
    "    df['block_raw'] = df['block_raw'].str.strip(\"'\")\n",
    "\n",
    "    df_test = df.query(\"phase_raw == 'test'\")\n",
    "    block_1 = df_test.query(\"block_raw == 'block 1'\")\n",
    "    block_2 = df_test.query(\"block_raw == 'block 2'\")\n",
    "    block_1 = block_1.reset_index(drop=True)\n",
    "    block_2 = block_2.reset_index(drop=True)\n",
    "\n",
    "    task_dfs = [block_1, block_2]\n",
    "\n",
    "    for df in task_dfs:\n",
    "        if 'ai' in df['condition'].values:\n",
    "            ai_data = df.copy()\n",
    "            ai_data['distances_raw'] = ai_data['distances_raw'].apply(string_to_numbers)\n",
    "            ai_data['pressures_raw'] = ai_data['pressures_raw'].apply(string_to_numbers)\n",
    "            ai_data['time_stamps_raw'] = ai_data['time_stamps_raw'].apply(string_to_numbers)\n",
    "        else:\n",
    "            control_data = df.copy()\n",
    "            control_data['distances_raw'] = control_data['distances_raw'].apply(string_to_numbers)\n",
    "            control_data['pressures_raw'] = control_data['pressures_raw'].apply(string_to_numbers)\n",
    "            control_data['time_stamps_raw'] = control_data['time_stamps_raw'].apply(string_to_numbers)\n",
    "\n",
    "    data[subject] = {'ai': {'data': ai_data}, 'control': {'data': control_data}}\n",
    "\n",
    "    for block in data[subject].keys():\n",
    "        trial_results, ssrt_list = process_trial_data(data[subject][block]['data'])\n",
    "        data[subject][block]['trial_results'] = trial_results\n",
    "        data[subject][block]['ssrt_list'] = ssrt_list  "
   ]
  },
  {
   "cell_type": "code",
   "execution_count": 23,
   "id": "2e9c4f10-7bd3-4575-a149-b80b49cbbdec",
   "metadata": {},
   "outputs": [],
   "source": [
    "master_ssrt = [\n",
    "    ssrt\n",
    "    for subject in data.keys()\n",
    "    for ssrt in data[subject]['control']['ssrt_list']\n",
    "]"
   ]
  },
  {
   "cell_type": "code",
   "execution_count": 24,
   "id": "2a63404c-5fef-4198-b2e2-969ed9fb40b6",
   "metadata": {},
   "outputs": [
    {
     "data": {
      "image/png": "[encoded data removed]",
      "text/plain": [
       "<Figure size 1000x600 with 1 Axes>"
      ]
     },
     "metadata": {},
     "output_type": "display_data"
    }
   ],
   "source": [
    "plt.figure(figsize=(10, 6))  # Set the figure size\n",
    "plt.hist(master_ssrt, bins=25, color='blue', edgecolor='black', alpha=0.7)\n",
    "\n",
    "# Labeling the axes and the plot\n",
    "plt.xlabel('Inhibition Point (seconds)')\n",
    "plt.ylabel('Frequency')\n",
    "plt.title('Histogram of Points of Inhibition')\n",
    "\n",
    "# Setting x-axis major and minor ticks\n",
    "plt.gca().xaxis.set_major_locator(MultipleLocator(0.1))  # Major ticks at every 0.1 seconds\n",
    "plt.gca().xaxis.set_minor_locator(MultipleLocator(0.01))  # Minor ticks at every 0.01 seconds\n",
    "\n",
    "# Show grid and the plot\n",
    "plt.grid(axis='y', alpha=0.75)\n",
    "plt.grid(which='minor', axis='x', linestyle=':', linewidth='0.5', color='gray')  # Minor grid lines\n",
    "\n",
    "plt.show()"
   ]
  },
  {
   "cell_type": "code",
   "execution_count": 41,
   "id": "14aedc49-8499-4e25-aca6-5bf1d66c7511",
   "metadata": {},
   "outputs": [
    {
     "name": "stdout",
     "output_type": "stream",
     "text": [
      "Subject label: s042\n",
      "Subject label: s029\n",
      "Subject label: s016\n",
      "Subject label: s011\n",
      "Subject label: s018\n",
      "Subject label: s027\n",
      "Subject label: s020\n",
      "Subject label: s043\n",
      "Subject label: s021\n",
      "Subject label: s019\n",
      "Subject label: s026\n",
      "Subject label: s010\n",
      "Subject label: s028\n",
      "Subject label: s017\n",
      "Subject label: s035\n",
      "Subject label: s032\n",
      "Subject label: s004\n",
      "Subject label: s005\n",
      "Subject label: s033\n",
      "Subject label: s034\n",
      "Subject label: s012\n",
      "Subject label: s015\n",
      "Subject label: s023\n",
      "Subject label: s024\n",
      "Subject label: s041\n",
      "Subject label: s025\n",
      "Subject label: s022\n",
      "Subject label: s014\n",
      "Subject label: s013\n",
      "Subject label: s040\n",
      "Subject label: s031\n",
      "Subject label: s036\n",
      "Subject label: s009\n",
      "Subject label: s007\n",
      "Subject label: s038\n",
      "Subject label: s006\n",
      "Subject label: s039\n"
     ]
    },
    {
     "name": "stderr",
     "output_type": "stream",
     "text": [
      "No artists with labels found to put in legend.  Note that artists whose label start with an underscore are ignored when legend() is called with no argument.\n"
     ]
    },
    {
     "name": "stdout",
     "output_type": "stream",
     "text": [
      "Subject label: s037\n",
      "Subject label: s008\n",
      "Subject label: s030\n"
     ]
    },
    {
     "data": {
      "image/png": "[encoded data removed]",
      "text/plain": [
       "<Figure size 1000x500 with 1 Axes>"
      ]
     },
     "metadata": {},
     "output_type": "display_data"
    },
    {
     "name": "stderr",
     "output_type": "stream",
     "text": [
      "No artists with labels found to put in legend.  Note that artists whose label start with an underscore are ignored when legend() is called with no argument.\n"
     ]
    },
    {
     "data": {
      "image/png": "[encoded data removed]",
      "text/plain": [
       "<Figure size 1000x500 with 1 Axes>"
      ]
     },
     "metadata": {},
     "output_type": "display_data"
    }
   ],
   "source": [
    "all_data = []\n",
    "for file in data_files:\n",
    "    subject = get_subject_label(file)\n",
    "    df = pd.read_csv(file)\n",
    "    trial_results = data[subject]['control']['trial_results']\n",
    "    for trial in trial_results.values():\n",
    "        ssrt = trial['ssrt']\n",
    "        stop_onset = trial['stop_onset']\n",
    "        all_data.append({'subject': subject, 'ssrt': ssrt, 'stop_onset': stop_onset})\n",
    "\n",
    "# Create DataFrame\n",
    "df = pd.DataFrame(all_data)\n",
    "\n",
    "# Median split based on stop_onset\n",
    "median_ssd = df['stop_onset'].median()\n",
    "low_ssd = df[df['stop_onset'] <= median_ssd]\n",
    "high_ssd = df[df['stop_onset'] > median_ssd]\n",
    "\n",
    "# Assume 'df' is your existing DataFrame with SSRT values in seconds\n",
    "# Define bin edges for 20 ms intervals\n",
    "min_ssrt = df['ssrt'].min() * 1000  # Convert to milliseconds\n",
    "max_ssrt = df['ssrt'].max() * 1000  # Convert to milliseconds\n",
    "bin_edges = np.arange(min_ssrt, max_ssrt + 20, 20)  # Create bins of size 20 ms\n",
    "\n",
    "# Create histogram of SSRT for the full dataset\n",
    "plt.figure(figsize=(10, 5))\n",
    "plt.hist(df['ssrt'] * 1000, bins=bin_edges, alpha=0.7)  # Convert to milliseconds for the histogram\n",
    "plt.xlabel('SSRT (ms)')\n",
    "plt.ylabel('Frequency')\n",
    "plt.title('Histogram of SSRT without a Buffer Period')\n",
    "plt.legend()\n",
    "plt.gca().xaxis.set_major_locator(MultipleLocator(100))  # Major ticks every 100 ms\n",
    "plt.gca().xaxis.set_minor_locator(MultipleLocator(20))  # Minor ticks every 20 ms\n",
    "plt.savefig('figures/ssrt_without_buffer_histogram.png')\n",
    "plt.show()\n",
    "\n",
    "# Create a second histogram for SSRT values below 0.6 seconds\n",
    "plt.figure(figsize=(10, 5))\n",
    "df_below_06 = df[df['ssrt'] <= 0.6]  # Filter for values below or equal to 0.6 seconds\n",
    "plt.hist(df_below_06['ssrt'] * 1000, bins=np.arange(min_ssrt, 600 + 20, 20), alpha=0.7)  # Convert to milliseconds for the histogram\n",
    "plt.xlabel('SSRT (ms)')\n",
    "plt.ylabel('Frequency')\n",
    "plt.title('Histogram of SSRT Values Without a Buffer Below 600ms')\n",
    "plt.legend()\n",
    "plt.gca().xaxis.set_major_locator(MultipleLocator(100))  # Major ticks every 100 ms\n",
    "plt.gca().xaxis.set_minor_locator(MultipleLocator(20))  # Minor ticks every 20 ms\n",
    "plt.savefig('figures/ssrt_without_buffer_zoomed_in_histogram.png')\n",
    "plt.show()\n",
    "\n",
    "# Create histograms for median split groups\n",
    "# plt.figure(figsize=(10, 5))\n",
    "# plt.hist(low_ssd['ssrt'], bins=bin_edges, alpha=0.7, label='Low SSD')\n",
    "# plt.hist(high_ssd['ssrt'], bins=bin_edges, alpha=0.7, label='High SSD')\n",
    "# plt.xlabel('SSRT')\n",
    "# plt.ylabel('Frequency')\n",
    "# plt.title('Histogram of SSRT by Median Split of SSD')\n",
    "# plt.legend()\n",
    "# plt.gca().xaxis.set_major_locator(MultipleLocator(0.1))  # Major ticks at every 0.1 seconds\n",
    "# plt.gca().xaxis.set_minor_locator(MultipleLocator(0.01))  # Minor ticks at every 0.01 seconds\n",
    "# plt.savefig('histogram_ssd_split.png')\n",
    "# plt.show()"
   ]
  },
  {
   "cell_type": "code",
   "execution_count": null,
   "id": "8ca99836-fe9c-4e46-9744-75514c235d49",
   "metadata": {},
   "outputs": [
    {
     "data": {
      "text/plain": [
       "7      2.530509\n",
       "8      2.452799\n",
       "9      2.620541\n",
       "10     2.293023\n",
       "45     2.372725\n",
       "53     4.054217\n",
       "107    3.460214\n",
       "141    2.552186\n",
       "153    2.717387\n",
       "157    3.980720\n",
       "194    2.294829\n",
       "217    2.037470\n",
       "235    3.089356\n",
       "265    2.153767\n",
       "282    2.111591\n",
       "Name: stop_onset, dtype: float64"
      ]
     },
     "execution_count": 13,
     "metadata": {},
     "output_type": "execute_result"
    }
   ],
   "source": [
    "filtered_df = df[(df['ssrt'] >= 0.0) & (df['ssrt'] <= 0.07)]\n",
    "ssds_in_range = filtered_df['stop_onset']\n",
    "(ssds_in_range)\n"
   ]
  },
  {
   "cell_type": "markdown",
   "id": "eed1b1fc-92aa-4e51-bb6a-c8937c75f4de",
   "metadata": {},
   "source": [
    "# Comparing ai stop with non ai stop"
   ]
  },
  {
   "cell_type": "code",
   "execution_count": null,
   "id": "baf0a4ae-7bf6-4ab6-8bfa-682618fc7a58",
   "metadata": {},
   "outputs": [
    {
     "data": {
      "text/plain": [
       "dict_keys(['s1', 's2', 's3'])"
      ]
     },
     "execution_count": 9,
     "metadata": {},
     "output_type": "execute_result"
    }
   ],
   "source": [
    "data.keys()"
   ]
  },
  {
   "cell_type": "code",
   "execution_count": null,
   "id": "529b0d61-7f66-4ee3-9748-a69acaea017a",
   "metadata": {},
   "outputs": [
    {
     "data": {
      "text/plain": [
       "dict_keys(['ai', 'control'])"
      ]
     },
     "execution_count": 10,
     "metadata": {},
     "output_type": "execute_result"
    }
   ],
   "source": [
    "data['s1'].keys()"
   ]
  },
  {
   "cell_type": "code",
   "execution_count": null,
   "id": "8b7ace59-5197-4a33-9ae8-840282291cd0",
   "metadata": {},
   "outputs": [
    {
     "data": {
      "text/plain": [
       "dict_keys(['data', 'trial_results', 'ssrt_list'])"
      ]
     },
     "execution_count": 11,
     "metadata": {},
     "output_type": "execute_result"
    }
   ],
   "source": [
    "data['s1']['ai'].keys()"
   ]
  },
  {
   "cell_type": "code",
   "execution_count": null,
   "id": "a4761792-e958-4fea-b9c3-aef3da164924",
   "metadata": {},
   "outputs": [
    {
     "data": {
      "text/plain": [
       "dict_keys([0, 1, 2, 3, 4, 5, 6, 7, 8, 9, 10, 11, 12, 13, 14, 15, 16, 17, 18, 19, 20, 21, 22, 23, 24, 25, 26, 27, 28, 29, 30, 31, 32, 33, 34, 35, 36, 37, 38, 39, 40, 41, 42, 43, 44, 45, 46, 47, 48, 49, 50, 51, 52, 53, 54, 55, 56, 57, 58, 59, 60, 61, 62, 63, 64, 65, 66, 67, 68, 69, 70, 71, 72, 73, 74, 75, 76, 77, 78, 79, 80, 81, 82, 83, 84, 85, 86, 87, 88, 89, 90, 91, 92, 93, 94, 95, 96, 97, 98, 99])"
      ]
     },
     "execution_count": 12,
     "metadata": {},
     "output_type": "execute_result"
    }
   ],
   "source": [
    "data['s1']['ai']['trial_results'].keys()"
   ]
  },
  {
   "cell_type": "code",
   "execution_count": null,
   "id": "da20ba93-e4ee-4b2c-a6a1-ac0f5e5beb3a",
   "metadata": {},
   "outputs": [
    {
     "data": {
      "text/plain": [
       "dict_keys(['stop_onset', 'closest_time', 'index_of_closest', 'raw_pressure', 'distances_raw', 'pressures_raw', 'time_stamps_raw', 'condition', 'stop_pressure', 'stop_moment', 'moment_of_inhibition', 'index_of_inhibition', 'ssrt'])"
      ]
     },
     "execution_count": 13,
     "metadata": {},
     "output_type": "execute_result"
    }
   ],
   "source": [
    "data['s1']['ai']['trial_results'][0].keys()"
   ]
  },
  {
   "cell_type": "code",
   "execution_count": null,
   "id": "ede4d537-2ddd-4880-a1e8-d8539f07478e",
   "metadata": {},
   "outputs": [],
   "source": [
    "stop_comparison_data = {}\n",
    "for subject in data.keys():\n",
    "    stop_comparison_data[subject] = {}\n",
    "    for condition in data[subject].keys():\n",
    "        \n",
    "        stop_comparison_data[subject][condition] = {}\n",
    "        \n",
    "        moments_of_inhibition = []\n",
    "        ssrts = []\n",
    "        stop_moments = []\n",
    "        \n",
    "        for trial in data[subject][condition]['trial_results'].keys():\n",
    "            \n",
    "            if data[subject][condition]['trial_results'][trial]['condition'] == 'stop':\n",
    "                moments_of_inhibition.append(data[subject][condition]['trial_results'][trial]['moment_of_inhibition'])\n",
    "                ssrts.append(data[subject][condition]['trial_results'][trial]['ssrt'])\n",
    "                stop_moments.append(data[subject][condition]['trial_results'][trial]['stop_moment'])\n",
    "\n",
    "        \n",
    "            \n",
    "        stop_comparison_data[subject][condition]['moments_of_inhibition'] = [x if x is not None else np.nan for x in moments_of_inhibition]\n",
    "        stop_comparison_data[subject][condition]['ssrts'] = [x if x is not None else np.nan for x in ssrts]\n",
    "        stop_comparison_data[subject][condition]['stop_moments'] = [x if x is not None else np.nan for x in stop_moments]"
   ]
  },
  {
   "cell_type": "code",
   "execution_count": null,
   "id": "7c724663-9b55-4e5a-85a4-32d5c2334561",
   "metadata": {},
   "outputs": [
    {
     "data": {
      "text/plain": [
       "3.3370198246091602"
      ]
     },
     "execution_count": 30,
     "metadata": {},
     "output_type": "execute_result"
    }
   ],
   "source": [
    "np.nanmean(stop_comparison_data['s1']['ai']['moments_of_inhibition'])"
   ]
  },
  {
   "cell_type": "code",
   "execution_count": null,
   "id": "cea99d04-f720-4fb9-87a7-98884c95a0e6",
   "metadata": {},
   "outputs": [
    {
     "data": {
      "text/plain": [
       "3.0597388359783877"
      ]
     },
     "execution_count": 31,
     "metadata": {},
     "output_type": "execute_result"
    }
   ],
   "source": [
    "np.nanmean(stop_comparison_data['s1']['control']['moments_of_inhibition'])"
   ]
  },
  {
   "cell_type": "code",
   "execution_count": null,
   "id": "639f1218-d948-4638-afd0-a19a6950f10e",
   "metadata": {},
   "outputs": [
    {
     "data": {
      "text/plain": [
       "10"
      ]
     },
     "execution_count": 32,
     "metadata": {},
     "output_type": "execute_result"
    }
   ],
   "source": [
    "len(stop_comparison_data['s1']['ai']['moments_of_inhibition'])"
   ]
  },
  {
   "cell_type": "code",
   "execution_count": null,
   "id": "7c622dc3-1bb3-4700-9e72-2b8b394383dd",
   "metadata": {},
   "outputs": [
    {
     "data": {
      "text/plain": [
       "3.1284891720861197"
      ]
     },
     "execution_count": 33,
     "metadata": {},
     "output_type": "execute_result"
    }
   ],
   "source": [
    "np.nanmean(stop_comparison_data['s2']['ai']['moments_of_inhibition'])"
   ]
  },
  {
   "cell_type": "code",
   "execution_count": null,
   "id": "170e48c9-0ae3-4c6a-8f16-1dc798613644",
   "metadata": {},
   "outputs": [
    {
     "data": {
      "text/plain": [
       "3.1076361581529537"
      ]
     },
     "execution_count": 34,
     "metadata": {},
     "output_type": "execute_result"
    }
   ],
   "source": [
    "np.nanmean(stop_comparison_data['s2']['control']['moments_of_inhibition'])"
   ]
  },
  {
   "cell_type": "code",
   "execution_count": null,
   "id": "8cd7a8fb-d802-4c2a-8507-365fb9d36942",
   "metadata": {},
   "outputs": [
    {
     "data": {
      "text/plain": [
       "3.0486037869006397"
      ]
     },
     "execution_count": 35,
     "metadata": {},
     "output_type": "execute_result"
    }
   ],
   "source": [
    "np.nanmean(stop_comparison_data['s3']['ai']['moments_of_inhibition'])"
   ]
  },
  {
   "cell_type": "code",
   "execution_count": null,
   "id": "abbcda71-ea8b-4fd5-b6dd-5ac67f90bd26",
   "metadata": {},
   "outputs": [
    {
     "data": {
      "text/plain": [
       "3.153039333592985"
      ]
     },
     "execution_count": 36,
     "metadata": {},
     "output_type": "execute_result"
    }
   ],
   "source": [
    "np.nanmean(stop_comparison_data['s3']['control']['moments_of_inhibition'])"
   ]
  },
  {
   "cell_type": "code",
   "execution_count": null,
   "id": "4ee95459-0bc9-49b8-9139-c394ca0f9101",
   "metadata": {},
   "outputs": [],
   "source": []
  }
 ],
 "metadata": {
  "kernelspec": {
   "display_name": "Python 3",
   "language": "python",
   "name": "python3"
  },
  "language_info": {
   "codemirror_mode": {
    "name": "ipython",
    "version": 3
   },
   "file_extension": ".py",
   "mimetype": "text/x-python",
   "name": "python",
   "nbconvert_exporter": "python",
   "pygments_lexer": "ipython3",
   "version": "3.12.4"
  }
 },
 "nbformat": 4,
 "nbformat_minor": 5
}
