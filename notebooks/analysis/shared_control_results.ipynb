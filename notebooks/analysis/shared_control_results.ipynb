{
 "cells": [
  {
   "cell_type": "code",
   "execution_count": 14,
   "metadata": {},
   "outputs": [],
   "source": [
    "import pandas as pd\n",
    "import statsmodels.api as sm\n",
    "from statsmodels.formula.api import ols\n",
    "from statsmodels.stats.anova import AnovaRM\n",
    "from scipy import stats"
   ]
  },
  {
   "cell_type": "code",
   "execution_count": 19,
   "metadata": {},
   "outputs": [
    {
     "name": "stdout",
     "output_type": "stream",
     "text": [
      "   subject_id  non_ai_stop_ssrt  ai_stop_ssrt  ai_ai_ssrt  simple_stop_ssrt\n",
      "0        s004          0.222370      0.242520    0.254993          0.206134\n",
      "1        s005          0.219656      0.232827    0.259066          0.160407\n",
      "2        s006          0.252159      0.256714    0.293052          0.176054\n",
      "3        s007          0.258807      0.284119    0.338084          0.203817\n",
      "4        s008          0.240625      0.255048    0.296495          0.183402\n",
      "5        s009          0.222365      0.259465    0.255665          0.222842\n",
      "6        s010          0.245595      0.249927    0.257013          0.169163\n",
      "7        s011          0.213192      0.246637    0.250062          0.186240\n",
      "8        s012          0.219486      0.240208    0.233554          0.197466\n",
      "9        s013          0.266719      0.269863    0.341452          0.278431\n",
      "10       s014          0.251096      0.230776    0.256233          0.217073\n",
      "11       s015          0.296392      0.380136    0.336576          0.240112\n",
      "12       s016          0.299043      0.268403    0.430194          0.252519\n",
      "13       s017          0.213565      0.264910    0.286656          0.183152\n",
      "14       s018          0.226637      0.290341    0.269318          0.215006\n",
      "15       s019          0.223034      0.219007    0.249818          0.197659\n",
      "16       s020          0.237077      0.254295    0.265832          0.260109\n",
      "17       s021          0.287918      0.331584    0.358024          0.206336\n",
      "18       s022          0.253110      0.289369    0.320395          0.209588\n",
      "19       s023          0.249706      0.269214    0.296702          0.207425\n",
      "20       s024          0.228121      0.240298    0.260668          0.172532\n",
      "21       s025          0.254728      0.302605    0.303380          0.242536\n",
      "22       s026          0.215729      0.241483    0.251357          0.210119\n",
      "23       s027          0.250350      0.296404    0.428639          0.198154\n",
      "24       s028          0.237059      0.271803    0.272073          0.188623\n",
      "25       s029          0.246592      0.313520    0.320721          0.251394\n",
      "26       s030          0.288809      0.317259    0.422340          0.251325\n",
      "27       s031          0.226748      0.230881    0.275043          0.240803\n",
      "28       s032          0.207733      0.226590    0.232531          0.223361\n",
      "29       s033          0.259749      0.286848    0.337131          0.259330\n",
      "30       s034          0.216337      0.253187    0.261768          0.191099\n",
      "31       s035          0.230048      0.251686    0.273028          0.182367\n",
      "32       s036          0.272832      0.304062    0.363461          0.223857\n",
      "33       s037          0.233004      0.266935    0.266287          0.171304\n",
      "34       s038          0.261162      0.255775    0.258892          0.245345\n",
      "35       s039          0.234563      0.251757    0.546655          0.215070\n",
      "36       s040          0.233142      0.231620    0.252517          0.222738\n",
      "37       s041          0.283988      0.251039    0.271211          0.282436\n",
      "38       s042          0.218887      0.220135    0.266699          0.199412\n",
      "39       s043          0.225060      0.227680    0.273000          0.248984\n"
     ]
    }
   ],
   "source": [
    "shared_control_ssrt = pd.read_csv(\"/Users/kritiaxh/Documents/PoldrackLab/SharedControl/notebooks/analysis/output/shared_control_metrics_ssrt.csv\")\n",
    "simple_stop_ssrt = pd.read_csv(\"/Users/kritiaxh/Documents/PoldrackLab/SharedControl/notebooks/analysis/output/simple_stop_metrics.csv\")\n",
    "\n",
    "# Set the first column as the index to use for merging (assuming it's the subject ID)\n",
    "shared_control_ssrt.columns = ['subject_id'] + list(shared_control_ssrt.columns[1:])\n",
    "simple_stop_ssrt.columns = ['subject_id'] + list(simple_stop_ssrt.columns[1:])\n",
    "\n",
    "# Merge by the first (subject_id) column\n",
    "merged_df = pd.merge(shared_control_ssrt, simple_stop_ssrt[['subject_id', 'ssrt']], on='subject_id', how='left')\n",
    "\n",
    "# Rename the SSRT column from simple_stop_ssrt to 'simple_stop_ssrt'\n",
    "merged_df.rename(columns={'ssrt': 'simple_stop_ssrt'}, inplace=True)\n",
    "\n",
    "# Set the 'subject_id' column as the index\n",
    "# merged_df.set_index('subject_id', inplace=True)\n",
    "\n",
    "# Remove the last row, assuming it's the mean row\n",
    "merged_df = merged_df.iloc[:-1, :]\n",
    "\n",
    "# Check the merged dataframe\n",
    "print(merged_df)"
   ]
  },
  {
   "cell_type": "code",
   "execution_count": 20,
   "metadata": {},
   "outputs": [
    {
     "name": "stdout",
     "output_type": "stream",
     "text": [
      "    subject_id         condition      SSRT\n",
      "0         s004  non_ai_stop_ssrt  0.222370\n",
      "1         s005  non_ai_stop_ssrt  0.219656\n",
      "2         s006  non_ai_stop_ssrt  0.252159\n",
      "3         s007  non_ai_stop_ssrt  0.258807\n",
      "4         s008  non_ai_stop_ssrt  0.240625\n",
      "..         ...               ...       ...\n",
      "115       s039  simple_stop_ssrt  0.215070\n",
      "116       s040  simple_stop_ssrt  0.222738\n",
      "117       s041  simple_stop_ssrt  0.282436\n",
      "118       s042  simple_stop_ssrt  0.199412\n",
      "119       s043  simple_stop_ssrt  0.248984\n",
      "\n",
      "[120 rows x 3 columns]\n",
      "                 Anova\n",
      "=======================================\n",
      "          F Value Num DF  Den DF Pr > F\n",
      "---------------------------------------\n",
      "condition 50.0905 2.0000 78.0000 0.0000\n",
      "=======================================\n",
      "\n"
     ]
    }
   ],
   "source": [
    "# Reshape the data for repeated measures ANOVA\n",
    "data_long = pd.melt(merged_df, id_vars=['subject_id'], value_vars=['non_ai_stop_ssrt', 'ai_stop_ssrt', 'simple_stop_ssrt'],\n",
    "                    var_name='condition', value_name='SSRT')\n",
    "\n",
    "print(data_long)\n",
    "\n",
    "# Run the repeated measures ANOVA\n",
    "aovrm = AnovaRM(data_long, 'SSRT', 'subject_id', within=['condition'])\n",
    "anova_results = aovrm.fit()\n",
    "print(anova_results)"
   ]
  },
  {
   "cell_type": "code",
   "execution_count": 23,
   "metadata": {},
   "outputs": [
    {
     "name": "stdout",
     "output_type": "stream",
     "text": [
      "AI Stop vs Non-AI Stop SSRT Comparison: t-statistic = 5.516070218377297, p-value = 2.4323065099591773e-06\n",
      "Non-AI vs Simple Stopping SSRT Comparison: t-statistic = 6.309580485669263, p-value = 1.9248987580841163e-07\n"
     ]
    }
   ],
   "source": [
    "# Conduct the paired t-tests for planned comparisons\n",
    "\n",
    "# Comparison 1: AI Stop vs non-AI Stop\n",
    "ai_vs_non_ai = stats.ttest_rel(merged_df['ai_stop_ssrt'], merged_df['non_ai_stop_ssrt'])\n",
    "print(f\"AI Stop vs Non-AI Stop SSRT Comparison: t-statistic = {ai_vs_non_ai.statistic}, p-value = {ai_vs_non_ai.pvalue}\")\n",
    "\n",
    "# Comparison 2: Non-AI vs Simple Stopping\n",
    "non_ai_vs_simple = stats.ttest_rel(merged_df['non_ai_stop_ssrt'], merged_df['simple_stop_ssrt'])\n",
    "print(f\"Non-AI vs Simple Stopping SSRT Comparison: t-statistic = {non_ai_vs_simple.statistic}, p-value = {non_ai_vs_simple.pvalue}\")"
   ]
  },
  {
   "cell_type": "code",
   "execution_count": 26,
   "metadata": {},
   "outputs": [
    {
     "name": "stdout",
     "output_type": "stream",
     "text": [
      "Cleaned requirements.txt has been generated.\n"
     ]
    }
   ],
   "source": [
    "import subprocess\n",
    "import re\n",
    "\n",
    "# Run pip freeze and capture output\n",
    "result = subprocess.run(['pip', 'freeze'], capture_output=True, text=True)\n",
    "\n",
    "# Use a regex to remove lines that include 'file:///'\n",
    "cleaned_output = re.sub(r' @ file://[^\\n]+', '', result.stdout)\n",
    "\n",
    "# Write the cleaned output to a new requirements.txt file\n",
    "with open('requirements.txt', 'w') as f:\n",
    "    f.write(cleaned_output)\n",
    "\n",
    "print(\"Cleaned requirements.txt has been generated.\")"
   ]
  }
 ],
 "metadata": {
  "kernelspec": {
   "display_name": "Python 3",
   "language": "python",
   "name": "python3"
  },
  "language_info": {
   "codemirror_mode": {
    "name": "ipython",
    "version": 3
   },
   "file_extension": ".py",
   "mimetype": "text/x-python",
   "name": "python",
   "nbconvert_exporter": "python",
   "pygments_lexer": "ipython3",
   "version": "3.12.4"
  }
 },
 "nbformat": 4,
 "nbformat_minor": 2
}
