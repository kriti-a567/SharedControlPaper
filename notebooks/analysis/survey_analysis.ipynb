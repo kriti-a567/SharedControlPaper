{
 "cells": [
  {
   "cell_type": "code",
   "execution_count": 44,
   "id": "a7fb80ed-711f-4c6a-9d18-ffd7399b3c10",
   "metadata": {},
   "outputs": [],
   "source": [
    "import pandas as pd\n",
    "import glob\n",
    "from pathlib import Path"
   ]
  },
  {
   "cell_type": "code",
   "execution_count": 45,
   "id": "22e0ddcf-d584-4ca1-aa62-290ce33c7f13",
   "metadata": {},
   "outputs": [],
   "source": [
    "pd.set_option('display.max_columns', None)\n",
    "pd.set_option('display.max_colwidth', None) "
   ]
  },
  {
   "cell_type": "code",
   "execution_count": 46,
   "id": "8de044f4-2164-43a0-9b0b-4b2e58fb2b05",
   "metadata": {},
   "outputs": [],
   "source": [
    "working_dir = '/Users/jahrios/Documents/Stanford/PoldrackLab/Projects/SharedControl/Data/raw'"
   ]
  },
  {
   "cell_type": "code",
   "execution_count": 70,
   "id": "5fc4fa7c-1f4b-46bd-8e47-b9c7e71bb410",
   "metadata": {},
   "outputs": [],
   "source": [
    "subjects = glob.glob('/Users/jahrios/Documents/Stanford/PoldrackLab/Projects/SharedControl/Data/raw/sub-*/')"
   ]
  },
  {
   "cell_type": "code",
   "execution_count": 57,
   "id": "c6db2bbc-c5f8-4ce0-8004-55bbcaa53f98",
   "metadata": {},
   "outputs": [],
   "source": [
    "subjects = [Path(subject.rstrip('/')).name[4:] for subject in subjects]"
   ]
  },
  {
   "cell_type": "code",
   "execution_count": 67,
   "id": "3851afb7-dc1a-4cad-bfba-4184e99b4967",
   "metadata": {},
   "outputs": [],
   "source": [
    "files = glob.glob(f'{working_dir}/sub-*/surveys/*_ai_survey.json')"
   ]
  },
  {
   "cell_type": "code",
   "execution_count": 68,
   "id": "7a934587-0ffa-4239-9618-24bc49d4ce64",
   "metadata": {},
   "outputs": [
    {
     "data": {
      "text/plain": [
       "['/Users/jahrios/Documents/Stanford/PoldrackLab/Projects/SharedControl/Data/raw/sub-s003/surveys/s003_ai_survey.json',\n",
       " '/Users/jahrios/Documents/Stanford/PoldrackLab/Projects/SharedControl/Data/raw/sub-s002/surveys/s002_ai_survey.json',\n",
       " '/Users/jahrios/Documents/Stanford/PoldrackLab/Projects/SharedControl/Data/raw/sub-s001/surveys/s001_ai_survey.json']"
      ]
     },
     "execution_count": 68,
     "metadata": {},
     "output_type": "execute_result"
    }
   ],
   "source": [
    "files"
   ]
  },
  {
   "cell_type": "code",
   "execution_count": 73,
   "id": "b79c6ea7-cc65-4b2b-a814-554e16e739bd",
   "metadata": {},
   "outputs": [
    {
     "data": {
      "text/plain": [
       "'s003'"
      ]
     },
     "execution_count": 73,
     "metadata": {},
     "output_type": "execute_result"
    }
   ],
   "source": [
    "Path(files[0].rstrip('/')).name[:4]"
   ]
  },
  {
   "cell_type": "code",
   "execution_count": 17,
   "id": "28c52d46-91cd-4f8a-90b9-e5ad507feecb",
   "metadata": {},
   "outputs": [],
   "source": [
    "def correct_reverse_coding(row):\n",
    "    if row['name'] == 'ai_survey_5_options':\n",
    "        return 6 - row['value']\n",
    "    else:\n",
    "        return row['value']\n",
    "    \n",
    "def map_value_to_option(row):\n",
    "    options_list = row['options'].split('|')\n",
    "    selected_option = options_list[row['value'] - 1].strip() if 0 < row['value'] <= len(options_list) else 'Invalid Value'\n",
    "    return f\"{row['text']} - Selected Option: {selected_option}\"\n"
   ]
  },
  {
   "cell_type": "code",
   "execution_count": 86,
   "id": "09db7105-6c0d-4450-ac39-fd6f991785f7",
   "metadata": {},
   "outputs": [],
   "source": [
    "survey_results = {}\n",
    "for file in files:\n",
    "    subject = Path(file.rstrip('/')).name[:4]\n",
    "    \n",
    "    df = pd.read_json(file)\n",
    "    df['corrected_value'] = df.apply(correct_reverse_coding, axis=1)\n",
    "    df['results'] = df.apply(map_value_to_option, axis=1)\n",
    "    \n",
    "    result = df['corrected_value'].mean()\n",
    "    \n",
    "    survey_results[subject] = {'data': df, 'result': result}"
   ]
  },
  {
   "cell_type": "code",
   "execution_count": 87,
   "id": "ea2f4861-127e-4002-91ed-2d25d5cd7acd",
   "metadata": {},
   "outputs": [
    {
     "name": "stdout",
     "output_type": "stream",
     "text": [
      "s003: 3.5714285714285716\n",
      "s002: 2.857142857142857\n",
      "s001: 3.4285714285714284\n"
     ]
    }
   ],
   "source": [
    "for subject in survey_results.keys():\n",
    "    print(f\"{subject}: {survey_results[subject]['result']}\")"
   ]
  },
  {
   "cell_type": "code",
   "execution_count": null,
   "id": "4c35bfed-934c-4c50-bd01-f8bee50148f3",
   "metadata": {},
   "outputs": [],
   "source": []
  }
 ],
 "metadata": {
  "kernelspec": {
   "display_name": "Python 3 (ipykernel)",
   "language": "python",
   "name": "python3"
  },
  "language_info": {
   "codemirror_mode": {
    "name": "ipython",
    "version": 3
   },
   "file_extension": ".py",
   "mimetype": "text/x-python",
   "name": "python",
   "nbconvert_exporter": "python",
   "pygments_lexer": "ipython3",
   "version": "3.8.16"
  }
 },
 "nbformat": 4,
 "nbformat_minor": 5
}
