{
 "cells": [
  {
   "cell_type": "code",
   "execution_count": 81,
   "id": "0b53de71-7194-4b4f-b806-1a71d94fe2e1",
   "metadata": {},
   "outputs": [],
   "source": [
    "import pandas as pd\n",
    "import os\n",
    "from expanalysis.utils import get_pages\n",
    "import json\n",
    "import operator\n",
    "import itertools\n",
    "from collections import defaultdict"
   ]
  },
  {
   "cell_type": "code",
   "execution_count": 82,
   "id": "22e0ddcf-d584-4ca1-aa62-290ce33c7f13",
   "metadata": {},
   "outputs": [],
   "source": [
    "pd.set_option('display.max_columns', None)\n",
    "pd.set_option('display.max_colwidth', None) "
   ]
  },
  {
   "cell_type": "code",
   "execution_count": 83,
   "id": "28c52d46-91cd-4f8a-90b9-e5ad507feecb",
   "metadata": {},
   "outputs": [],
   "source": [
    "def correct_reverse_coding(row):\n",
    "    if row['id'] == 'ai_survey_5_options':\n",
    "        return 6 - int(row['response'])\n",
    "    else:\n",
    "        return int(row['response'])\n",
    "    \n",
    "def map_value_to_option(row):\n",
    "    value = int(row['response'])\n",
    "    options_list = row['options']\n",
    "    text = row['text']\n",
    "\n",
    "    for item in options_list:\n",
    "        \n",
    "        if int(item['value'].strip()) == value:\n",
    "            return f\"{text} - Selected Option: {item['text']}\"\n",
    "    return None "
   ]
  },
  {
   "cell_type": "code",
   "execution_count": 84,
   "id": "b1d6b66f-fe0d-4ef4-8db9-7ef343448aff",
   "metadata": {},
   "outputs": [],
   "source": [
    "def get_results(url=None,access_token=None):\n",
    "    '''get_results is a wrapper for get_url, to first check that the user has provided an access token\n",
    "    :param url: the expfactory/results/api url\n",
    "    :param access_token: a token obtained at expfactory.org/token when the user is logged in\n",
    "    '''\n",
    "    if url == None:\n",
    "        url = \"http://expfactory.org/new_api/results/84/\"\n",
    "    if access_token != None:\n",
    "        return get_pages(url=url,access_token=access_token)\n",
    "    else:\n",
    "        print(\"You must provide an access_token to authenticate to the API.\")"
   ]
  },
  {
   "cell_type": "code",
   "execution_count": 85,
   "id": "2069e4d5-88be-4c10-9844-134f6641c734",
   "metadata": {},
   "outputs": [],
   "source": [
    "battery_id =  ['259']"
   ]
  },
  {
   "cell_type": "code",
   "execution_count": 86,
   "id": "9e12ba74-2862-485f-80c2-74e349be997c",
   "metadata": {},
   "outputs": [],
   "source": [
    "with open('access_token.txt', 'r') as file:\n",
    "    access_token = file.read()\n",
    "url = \"http://expfactory.org/new_api/results/84/\" # defualt url"
   ]
  },
  {
   "cell_type": "code",
   "execution_count": 87,
   "id": "53005f1a-830a-487d-a699-1f6f589f4eb0",
   "metadata": {},
   "outputs": [
    {
     "name": "stdout",
     "output_type": "stream",
     "text": [
      "Retrieving http://expfactory.org/new_api/results/259/\n",
      "Retrieving http://expfactory.org/new_api/results/259/?limit=10&offset=10\n",
      "Retrieving http://expfactory.org/new_api/results/259/?limit=10&offset=20\n",
      "Retrieving http://expfactory.org/new_api/results/259/?limit=10&offset=30\n",
      "Found 34 results!\n"
     ]
    }
   ],
   "source": [
    "# creates a results array of specific batteries\n",
    "results = []\n",
    "for id in battery_id:\n",
    "    single_result = get_results(url=f\"http://expfactory.org/new_api/results/{id}/\", access_token=access_token)\n",
    "    results.append(single_result)\n"
   ]
  },
  {
   "cell_type": "code",
   "execution_count": 88,
   "id": "94ffb67c-7621-4607-8e6e-c02bdacfd6a7",
   "metadata": {},
   "outputs": [],
   "source": [
    "################################################################## \n",
    "#                       Define variables     \n",
    "################################################################## \n",
    "file_path = \"/Users/jahrios/Documents/Stanford/Poldrack Lab/Python Code/network_output\"\n",
    "\n",
    "surveys = ['demographics_survey__stanford', 'ai_survey']\n",
    "\n",
    "subject_info = pd.read_csv('shared_control_subjects.csv')\n"
   ]
  },
  {
   "cell_type": "code",
   "execution_count": 89,
   "id": "a14d0285-dfe2-4f2e-9b8f-46c6a7aa45c2",
   "metadata": {},
   "outputs": [],
   "source": [
    "# flattening the list\n",
    "temp_results = [item for sublist in results for item in sublist]\n",
    "results = temp_results"
   ]
  },
  {
   "cell_type": "code",
   "execution_count": 90,
   "id": "6eceff5f-6bec-4236-a884-464254372422",
   "metadata": {},
   "outputs": [],
   "source": [
    "# we are finding all of the unique workers in this line of code\n",
    "workers = []\n",
    "#for i in range(0, len(results)):\n",
    "for i in range(0, len(results)):\n",
    "    worker_id = results[i]['worker']['id']\n",
    "    workers.append(worker_id)\n",
    "    \n",
    "unique_workers = set(workers)"
   ]
  },
  {
   "cell_type": "code",
   "execution_count": 91,
   "id": "b5353b85-850a-4040-9bbd-9059b571e67b",
   "metadata": {},
   "outputs": [],
   "source": [
    "# after we find all unique workers, we are going to check which experiments and surveys that worker has done\n",
    "all_subs = []\n",
    "num_unique_worker = len(unique_workers)\n",
    "for i in range(0, num_unique_worker):\n",
    "    current_worker = unique_workers.pop()\n",
    "    if not os.path.exists(file_path + '/' + current_worker):\n",
    "        os.makedirs(file_path + '/' + current_worker)\n",
    "    tasks_completed = []    \n",
    "    tasks_completed.append(current_worker)\n",
    "    for x in range(0, len(results)):\n",
    "        if current_worker == results[x]['worker']['id']:\n",
    "            if results[x]['completed'] == True:\n",
    "                completed_task = results[x]['experiment']['exp_id']\n",
    "                tasks_completed.append(completed_task)\n",
    "                \n",
    "    all_subs.append(tasks_completed)"
   ]
  },
  {
   "cell_type": "code",
   "execution_count": 92,
   "id": "45f467c5-c77f-4861-9afc-f23b0e1d5c28",
   "metadata": {},
   "outputs": [],
   "source": [
    "# gathering all info from all subs into a list\n",
    "# you can see into this list to see which subs completed what  \n",
    "info_array = []\n",
    "for i in range(0,len(all_subs)):\n",
    "    current_worker = all_subs[i][0]\n",
    "    single_sub_task_and_survey = []\n",
    "    info_array.append([current_worker])\n",
    "    for x in range(1,len(all_subs[i])): \n",
    "        current_task = all_subs[i][x]\n",
    "        single_sub_task_and_survey.append(current_task)\n",
    "    info_array[i].append(single_sub_task_and_survey)"
   ]
  },
  {
   "cell_type": "code",
   "execution_count": 93,
   "id": "6b7e893f-0c02-4bd7-806c-f0d57c85c42b",
   "metadata": {},
   "outputs": [
    {
     "name": "stdout",
     "output_type": "stream",
     "text": [
      "There are 15 subject(s) who have completed the network battery.  They are:\n",
      "['323a83de-05e3-42dd-a975-4d8407f8bf35', '686fb9b6-423d-4130-82ed-dd94c65b7c71', '641d914a-7477-480a-9951-c34376399207', '518bb4c0-1eb3-454e-9c07-57b7f14a7bc2', '9d16d983-101a-464c-9056-d0526355d134', '2a894bdd-3a63-4490-82a8-60aa04ff2891', '69383d84-3462-4b90-b37d-5bc10da0cf1f', 'f86b2c13-eb4c-47a3-bb45-68b01088e20c', '63ba282e-0156-45ae-8070-677e8b43be09', '56a06a94-cbf4-4a97-9b11-c903cc44669d', '22285773-a87e-4a68-a101-66bfd5cca2ed', '3854412c-03ce-4be4-82b8-d548ed62c787', '80e2dc89-dc36-4c85-9028-07a45c0fa569', 'a14a7c9d-937a-436c-84f1-cd979080ec0b', '06fbed4e-909b-4183-86d8-db2d58716fd5']\n"
     ]
    }
   ],
   "source": [
    "# outputs which workers have completed everything\n",
    "workers_who_have_completed = []    \n",
    "for i in range(0,len(info_array)):\n",
    "    current_worker = info_array[i][0]\n",
    "    current_completed_tasks = info_array[i][1]\n",
    "    if set(current_completed_tasks) == set(surveys):\n",
    "        workers_who_have_completed.append(current_worker)\n",
    "        \n",
    "print('There are ' + str(len(workers_who_have_completed)) + ' subject(s) who have completed the network battery.  They are:')\n",
    "print(workers_who_have_completed)"
   ]
  },
  {
   "cell_type": "code",
   "execution_count": 94,
   "id": "06e312d5-0dd6-4211-aa35-07b4a30c38d8",
   "metadata": {},
   "outputs": [],
   "source": [
    "survey_data = {}\n",
    "\n",
    "for i in results:\n",
    "    if i['experiment']['exp_id'] == 'ai_survey':\n",
    "        if i['worker']['id'] in list(subject_info['expfactory_id']):\n",
    "            worker_id = i['worker']['id']\n",
    "            survey_data[worker_id] = pd.DataFrame(i['data']).T"
   ]
  },
  {
   "cell_type": "code",
   "execution_count": 95,
   "id": "3051e5f2-6d9b-4fad-bec6-3e6a8d2333d9",
   "metadata": {},
   "outputs": [],
   "source": [
    "worker_to_subject = dict(zip(subject_info['expfactory_id'], subject_info['subject_id']))\n",
    "subject_data = {worker_to_subject[worker_id]: data for worker_id, data in survey_data.items()}"
   ]
  },
  {
   "cell_type": "code",
   "execution_count": 96,
   "id": "0c52178a-fedb-42c8-9b85-30af0eced36d",
   "metadata": {},
   "outputs": [
    {
     "name": "stdout",
     "output_type": "stream",
     "text": [
      "s019\n",
      "s018\n",
      "s013\n",
      "s011\n",
      "s007\n",
      "s017\n",
      "s014\n",
      "s016\n",
      "s012\n",
      "s010\n",
      "s015\n",
      "s008\n",
      "s009\n",
      "s006\n",
      "s005\n",
      "s004\n"
     ]
    }
   ],
   "source": [
    "survey_results = {}\n",
    "for subject in subject_data.keys():\n",
    "    \n",
    "    print(subject)\n",
    "    if subject_data[subject].empty:\n",
    "        survey_results[subject] = {'data': df, 'result': None}\n",
    "    else:\n",
    "        df = subject_data[subject]\n",
    "        df['corrected_value'] = df.apply(correct_reverse_coding, axis=1)\n",
    "        df['results'] = df.apply(map_value_to_option, axis=1)\n",
    "\n",
    "        result = df['corrected_value'].mean()\n",
    "\n",
    "        survey_results[subject] = {'data': df, 'result': result}"
   ]
  },
  {
   "cell_type": "code",
   "execution_count": 101,
   "id": "4c35bfed-934c-4c50-bd01-f8bee50148f3",
   "metadata": {},
   "outputs": [],
   "source": [
    "result_df = pd.DataFrame({'survey_result': {subject: details['result'] for subject, details in survey_results.items()}})"
   ]
  },
  {
   "cell_type": "code",
   "execution_count": 103,
   "id": "f83e0041-b56f-4df7-b032-7fc2a4704512",
   "metadata": {},
   "outputs": [],
   "source": [
    "result_df.to_csv('output/ai_survey_metrics.csv')"
   ]
  },
  {
   "cell_type": "code",
   "execution_count": 102,
   "id": "20a7cda7-b1e3-4aa8-bfbe-09a1d9f0677c",
   "metadata": {},
   "outputs": [
    {
     "data": {
      "text/html": [
       "<div>\n",
       "<style scoped>\n",
       "    .dataframe tbody tr th:only-of-type {\n",
       "        vertical-align: middle;\n",
       "    }\n",
       "\n",
       "    .dataframe tbody tr th {\n",
       "        vertical-align: top;\n",
       "    }\n",
       "\n",
       "    .dataframe thead th {\n",
       "        text-align: right;\n",
       "    }\n",
       "</style>\n",
       "<table border=\"1\" class=\"dataframe\">\n",
       "  <thead>\n",
       "    <tr style=\"text-align: right;\">\n",
       "      <th></th>\n",
       "      <th>survey_result</th>\n",
       "    </tr>\n",
       "  </thead>\n",
       "  <tbody>\n",
       "    <tr>\n",
       "      <th>s004</th>\n",
       "      <td>2.142857</td>\n",
       "    </tr>\n",
       "    <tr>\n",
       "      <th>s005</th>\n",
       "      <td>3.000000</td>\n",
       "    </tr>\n",
       "    <tr>\n",
       "      <th>s006</th>\n",
       "      <td>2.714286</td>\n",
       "    </tr>\n",
       "    <tr>\n",
       "      <th>s007</th>\n",
       "      <td>3.428571</td>\n",
       "    </tr>\n",
       "    <tr>\n",
       "      <th>s008</th>\n",
       "      <td>4.000000</td>\n",
       "    </tr>\n",
       "    <tr>\n",
       "      <th>s009</th>\n",
       "      <td>3.142857</td>\n",
       "    </tr>\n",
       "    <tr>\n",
       "      <th>s010</th>\n",
       "      <td>1.857143</td>\n",
       "    </tr>\n",
       "    <tr>\n",
       "      <th>s011</th>\n",
       "      <td>1.571429</td>\n",
       "    </tr>\n",
       "    <tr>\n",
       "      <th>s012</th>\n",
       "      <td>2.428571</td>\n",
       "    </tr>\n",
       "    <tr>\n",
       "      <th>s013</th>\n",
       "      <td>3.428571</td>\n",
       "    </tr>\n",
       "    <tr>\n",
       "      <th>s014</th>\n",
       "      <td>3.571429</td>\n",
       "    </tr>\n",
       "    <tr>\n",
       "      <th>s015</th>\n",
       "      <td>3.285714</td>\n",
       "    </tr>\n",
       "    <tr>\n",
       "      <th>s016</th>\n",
       "      <td>3.285714</td>\n",
       "    </tr>\n",
       "    <tr>\n",
       "      <th>s017</th>\n",
       "      <td>2.285714</td>\n",
       "    </tr>\n",
       "    <tr>\n",
       "      <th>s018</th>\n",
       "      <td>3.571429</td>\n",
       "    </tr>\n",
       "    <tr>\n",
       "      <th>s019</th>\n",
       "      <td>3.285714</td>\n",
       "    </tr>\n",
       "  </tbody>\n",
       "</table>\n",
       "</div>"
      ],
      "text/plain": [
       "      survey_result\n",
       "s004       2.142857\n",
       "s005       3.000000\n",
       "s006       2.714286\n",
       "s007       3.428571\n",
       "s008       4.000000\n",
       "s009       3.142857\n",
       "s010       1.857143\n",
       "s011       1.571429\n",
       "s012       2.428571\n",
       "s013       3.428571\n",
       "s014       3.571429\n",
       "s015       3.285714\n",
       "s016       3.285714\n",
       "s017       2.285714\n",
       "s018       3.571429\n",
       "s019       3.285714"
      ]
     },
     "execution_count": 102,
     "metadata": {},
     "output_type": "execute_result"
    }
   ],
   "source": [
    "result_df"
   ]
  },
  {
   "cell_type": "code",
   "execution_count": null,
   "id": "7270e489-be52-4219-9b3f-c19cfa17b803",
   "metadata": {},
   "outputs": [],
   "source": []
  }
 ],
 "metadata": {
  "kernelspec": {
   "display_name": "Python 3 (ipykernel)",
   "language": "python",
   "name": "python3"
  },
  "language_info": {
   "codemirror_mode": {
    "name": "ipython",
    "version": 3
   },
   "file_extension": ".py",
   "mimetype": "text/x-python",
   "name": "python",
   "nbconvert_exporter": "python",
   "pygments_lexer": "ipython3",
   "version": "3.8.16"
  }
 },
 "nbformat": 4,
 "nbformat_minor": 5
}
