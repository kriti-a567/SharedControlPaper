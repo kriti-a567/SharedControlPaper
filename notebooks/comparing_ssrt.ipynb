{
 "cells": [
  {
   "cell_type": "code",
   "execution_count": 1,
   "id": "ec7930fe-7ac5-4911-bdf8-79a43dd10f37",
   "metadata": {},
   "outputs": [],
   "source": [
    "import numpy as np\n",
    "import pandas as pd"
   ]
  },
  {
   "cell_type": "code",
   "execution_count": 5,
   "id": "29a373ab-9ea3-4bfd-8a87-607abf3a27ca",
   "metadata": {},
   "outputs": [],
   "source": [
    "shared_control_metrics = pd.read_csv('output/shared_control_metrics.csv', index_col=0)\n",
    "ai_survey_metrics = pd.read_csv('output/ai_survey_metrics.csv', index_col=0)\n",
    "simple_stop_metrics = pd.read_csv('output/simple_stop_metrics.csv', index_col=0)"
   ]
  },
  {
   "cell_type": "code",
   "execution_count": 10,
   "id": "184b4196-4e31-4ea4-b50d-5586d47ee249",
   "metadata": {},
   "outputs": [],
   "source": [
    "df_combined = pd.concat([shared_control_metrics, ai_survey_metrics], axis=1)"
   ]
  },
  {
   "cell_type": "code",
   "execution_count": 11,
   "id": "2daa9fa7-0e0e-4eee-9555-a4840a0e5356",
   "metadata": {},
   "outputs": [],
   "source": [
    "df_combined['simple_stop_ssrt'] = simple_stop_metrics['ssrt']"
   ]
  },
  {
   "cell_type": "code",
   "execution_count": 14,
   "id": "879b2fe3-53eb-449d-870b-9019329e49df",
   "metadata": {},
   "outputs": [],
   "source": [
    "new_order = ['non_ai_stop_ssrt', 'ai_stop_ssrt', 'ai_ai_ssrt', 'simple_stop_ssrt', 'survey_result']\n",
    "\n",
    "df = df_combined[new_order]"
   ]
  },
  {
   "cell_type": "code",
   "execution_count": 15,
   "id": "56b9f759-140e-464c-8668-d521f1a3c5a5",
   "metadata": {},
   "outputs": [
    {
     "data": {
      "text/html": [
       "<div>\n",
       "<style scoped>\n",
       "    .dataframe tbody tr th:only-of-type {\n",
       "        vertical-align: middle;\n",
       "    }\n",
       "\n",
       "    .dataframe tbody tr th {\n",
       "        vertical-align: top;\n",
       "    }\n",
       "\n",
       "    .dataframe thead th {\n",
       "        text-align: right;\n",
       "    }\n",
       "</style>\n",
       "<table border=\"1\" class=\"dataframe\">\n",
       "  <thead>\n",
       "    <tr style=\"text-align: right;\">\n",
       "      <th></th>\n",
       "      <th>non_ai_stop_ssrt</th>\n",
       "      <th>ai_stop_ssrt</th>\n",
       "      <th>ai_ai_ssrt</th>\n",
       "      <th>simple_stop_ssrt</th>\n",
       "      <th>survey_result</th>\n",
       "    </tr>\n",
       "  </thead>\n",
       "  <tbody>\n",
       "    <tr>\n",
       "      <th>s004</th>\n",
       "      <td>0.222370</td>\n",
       "      <td>0.242520</td>\n",
       "      <td>0.254993</td>\n",
       "      <td>0.206134</td>\n",
       "      <td>2.142857</td>\n",
       "    </tr>\n",
       "    <tr>\n",
       "      <th>s005</th>\n",
       "      <td>0.219656</td>\n",
       "      <td>0.232827</td>\n",
       "      <td>0.259066</td>\n",
       "      <td>0.160407</td>\n",
       "      <td>3.000000</td>\n",
       "    </tr>\n",
       "    <tr>\n",
       "      <th>s006</th>\n",
       "      <td>0.252159</td>\n",
       "      <td>0.256714</td>\n",
       "      <td>0.293052</td>\n",
       "      <td>0.176054</td>\n",
       "      <td>2.714286</td>\n",
       "    </tr>\n",
       "    <tr>\n",
       "      <th>s007</th>\n",
       "      <td>0.258807</td>\n",
       "      <td>0.284119</td>\n",
       "      <td>0.338084</td>\n",
       "      <td>0.203817</td>\n",
       "      <td>3.428571</td>\n",
       "    </tr>\n",
       "    <tr>\n",
       "      <th>s008</th>\n",
       "      <td>0.240625</td>\n",
       "      <td>0.255048</td>\n",
       "      <td>0.296495</td>\n",
       "      <td>0.183402</td>\n",
       "      <td>4.000000</td>\n",
       "    </tr>\n",
       "  </tbody>\n",
       "</table>\n",
       "</div>"
      ],
      "text/plain": [
       "      non_ai_stop_ssrt  ai_stop_ssrt  ai_ai_ssrt  simple_stop_ssrt  \\\n",
       "s004          0.222370      0.242520    0.254993          0.206134   \n",
       "s005          0.219656      0.232827    0.259066          0.160407   \n",
       "s006          0.252159      0.256714    0.293052          0.176054   \n",
       "s007          0.258807      0.284119    0.338084          0.203817   \n",
       "s008          0.240625      0.255048    0.296495          0.183402   \n",
       "\n",
       "      survey_result  \n",
       "s004       2.142857  \n",
       "s005       3.000000  \n",
       "s006       2.714286  \n",
       "s007       3.428571  \n",
       "s008       4.000000  "
      ]
     },
     "execution_count": 15,
     "metadata": {},
     "output_type": "execute_result"
    }
   ],
   "source": [
    "df.head()"
   ]
  },
  {
   "cell_type": "code",
   "execution_count": 16,
   "id": "5858fd9b-5474-4f0e-99ff-9aba003dd4a3",
   "metadata": {},
   "outputs": [],
   "source": [
    "df.to_csv('output/shared_control_analysis_results.csv')"
   ]
  },
  {
   "cell_type": "code",
   "execution_count": null,
   "id": "eb8ad115-0c7d-4118-9c27-1fa75976cb10",
   "metadata": {},
   "outputs": [],
   "source": []
  }
 ],
 "metadata": {
  "kernelspec": {
   "display_name": "Python 3 (ipykernel)",
   "language": "python",
   "name": "python3"
  },
  "language_info": {
   "codemirror_mode": {
    "name": "ipython",
    "version": 3
   },
   "file_extension": ".py",
   "mimetype": "text/x-python",
   "name": "python",
   "nbconvert_exporter": "python",
   "pygments_lexer": "ipython3",
   "version": "3.8.16"
  }
 },
 "nbformat": 4,
 "nbformat_minor": 5
}
