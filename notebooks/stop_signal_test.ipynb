{
 "cells": [
  {
   "cell_type": "code",
   "execution_count": 2,
   "id": "4e89a60c-3cec-4214-9848-58619dfe3102",
   "metadata": {},
   "outputs": [],
   "source": [
    "import numpy as np\n",
    "import random\n",
    "import sys"
   ]
  },
  {
   "cell_type": "code",
   "execution_count": 27,
   "id": "b7ad5cc8-cc03-44d2-b56e-41f4ccf03dba",
   "metadata": {},
   "outputs": [],
   "source": [
    "SHAPES = [\"circle\", \"circle\", \"square\", \"square\"]\n",
    "TOTAL_SHAPES_USED = 4\n",
    "STOP_SIGNAL_CONDITIONS = [\"go\", \"go\", \"stop\"]\n",
    "\n",
    "POSSIBLE_RESPONSES = [\n",
    "  [\"Z key\", 90],\n",
    "  [\"Z key\", 90],\n",
    "  [\"M key\", 77],\n",
    "  [\"M key\", 77],\n",
    "]\n",
    "\n",
    "exp_len = 12\n",
    "numTrialsPerBlock = 12\n",
    "numTestBlocks = exp_len / numTrialsPerBlock"
   ]
  },
  {
   "cell_type": "code",
   "execution_count": 28,
   "id": "af8b5284-bc1e-4a2e-a033-610bebe62049",
   "metadata": {},
   "outputs": [],
   "source": [
    "def createTrialTypes(numTrialsPerBlock, TOTAL_SHAPES_USED, SHAPES):\n",
    "    unique_combos = len(STOP_SIGNAL_CONDITIONS) * TOTAL_SHAPES_USED;\n",
    "    \n",
    "    stims = []\n",
    "    for x in range(len(STOP_SIGNAL_CONDITIONS)):\n",
    "        for j in range(TOTAL_SHAPES_USED):\n",
    "            stim = {\n",
    "                'stim': SHAPES[j],\n",
    "                'correct_response': POSSIBLE_RESPONSES[j][1],\n",
    "                'stop_signal_condition': STOP_SIGNAL_CONDITIONS[x]\n",
    "            }\n",
    "            stims.append(stim)\n",
    "    \n",
    "    iteration = numTrialsPerBlock / unique_combos;\n",
    "    \n",
    "    shuffled_stims = random.sample(stims, len(stims))\n",
    "    stims = shuffled_stims * int(iteration)\n",
    "    return stims"
   ]
  },
  {
   "cell_type": "code",
   "execution_count": 29,
   "id": "86a264e3-8430-4fdb-b927-6cd81ebfe4fe",
   "metadata": {},
   "outputs": [],
   "source": [
    "stims = createTrialTypes(numTrialsPerBlock, TOTAL_SHAPES_USED, SHAPES)"
   ]
  },
  {
   "cell_type": "code",
   "execution_count": 30,
   "id": "31a5e4dc-707d-42ec-baa1-4ddda8c67d4b",
   "metadata": {},
   "outputs": [
    {
     "data": {
      "text/plain": [
       "[{'stim': 'circle', 'correct_response': 90, 'stop_signal_condition': 'go'},\n",
       " {'stim': 'square', 'correct_response': 77, 'stop_signal_condition': 'go'},\n",
       " {'stim': 'square', 'correct_response': 77, 'stop_signal_condition': 'stop'},\n",
       " {'stim': 'square', 'correct_response': 77, 'stop_signal_condition': 'go'},\n",
       " {'stim': 'square', 'correct_response': 77, 'stop_signal_condition': 'stop'},\n",
       " {'stim': 'circle', 'correct_response': 90, 'stop_signal_condition': 'go'},\n",
       " {'stim': 'square', 'correct_response': 77, 'stop_signal_condition': 'go'},\n",
       " {'stim': 'circle', 'correct_response': 90, 'stop_signal_condition': 'stop'},\n",
       " {'stim': 'circle', 'correct_response': 90, 'stop_signal_condition': 'go'},\n",
       " {'stim': 'circle', 'correct_response': 90, 'stop_signal_condition': 'stop'},\n",
       " {'stim': 'circle', 'correct_response': 90, 'stop_signal_condition': 'go'},\n",
       " {'stim': 'square', 'correct_response': 77, 'stop_signal_condition': 'go'}]"
      ]
     },
     "execution_count": 30,
     "metadata": {},
     "output_type": "execute_result"
    }
   ],
   "source": [
    "stims"
   ]
  }
 ],
 "metadata": {
  "kernelspec": {
   "display_name": "Python 3 (ipykernel)",
   "language": "python",
   "name": "python3"
  },
  "language_info": {
   "codemirror_mode": {
    "name": "ipython",
    "version": 3
   },
   "file_extension": ".py",
   "mimetype": "text/x-python",
   "name": "python",
   "nbconvert_exporter": "python",
   "pygments_lexer": "ipython3",
   "version": "3.9.12"
  }
 },
 "nbformat": 4,
 "nbformat_minor": 5
}
